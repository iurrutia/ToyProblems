{
 "cells": [
  {
   "cell_type": "markdown",
   "metadata": {},
   "source": [
    "# Past mock interview questions\n",
    "\n",
    "Some code/solutions for mock interviews I've done at Insight and beyond."
   ]
  },
  {
   "cell_type": "markdown",
   "metadata": {},
   "source": [
    "# Dinosaur game (retired google question)\n",
    "\n",
    "A dinosaur walks through a map of the form `map = [0 0 0 0 0 1 0 1 0 0 1 1 1 0]`, where 1s represent cacti, and 0s are places without cacti.\n",
    "At each step i the dinosaur is allowed to either walk forward (advance one) or jump (advance two, skipping map[i+1]). A dinosaur must stand on the first and last positions of a map (a map cannot begin or end in a 1).\n",
    "\n",
    "Write a function that tells us it is possible to win (get to the end of) a given map."
   ]
  },
  {
   "cell_type": "code",
   "execution_count": 28,
   "metadata": {},
   "outputs": [
    {
     "name": "stdout",
     "output_type": "stream",
     "text": [
      "False True\n"
     ]
    }
   ],
   "source": [
    "world = [0, 0, 0, 0, 0, 1, 0, 1, 0, 0, 1, 1, 1, 0]\n",
    "world2 = [0, 0, 0, 0, 0, 1, 0, 1, 0, 0, 1, 0, 1, 0, 1, 0]\n",
    "\n",
    "def map_valid_a(world):\n",
    "\n",
    "    # Check ends for edge cases\n",
    "    if world[0] == 1:\n",
    "        return False\n",
    "    if world[-1] == 1:\n",
    "        return False\n",
    "\n",
    "    for i in range(len(world)-1):\n",
    "        if world[i] == 1 and world[i+1] == 1:\n",
    "            return False\n",
    "    return True\n",
    "\n",
    "print(map_valid_a(world), map_valid_a(world2))"
   ]
  },
  {
   "cell_type": "markdown",
   "metadata": {},
   "source": [
    "### Follow-up:\n",
    "Assume the same set up as above, but now we are allowed to either:\n",
    "- Walk forward one step, or\n",
    "- Jump a distance j, with j in [min_jump, min_jump + 1, … max_jump]"
   ]
  },
  {
   "cell_type": "code",
   "execution_count": 57,
   "metadata": {},
   "outputs": [
    {
     "name": "stdout",
     "output_type": "stream",
     "text": [
      "True True False\n"
     ]
    }
   ],
   "source": [
    "world1 = [0, 0, 0, 0, 0, 1, 0, 1, 0, 0, 1, 1, 1, 1, 1, 0]\n",
    "world2 = [0, 0, 0, 0, 0, 1, 0, 1, 0, 0, 1, 0, 1, 0, 1, 0]\n",
    "world3 = [0, 1, 1, 1, 1, 1, 1, 0, 1, 0 ]\n",
    "\n",
    "def map_valid(world, min_jump, max_jump):\n",
    "\n",
    "    \n",
    "    #  iterate\n",
    "    # valid - possible or not possible to get to each pos i\n",
    "    valid = []\n",
    "    \n",
    "    # edge case\n",
    "    if world[0] == 1:\n",
    "        return False\n",
    "    else:\n",
    "        valid.append(True)\n",
    "        \n",
    "    if world[-1] == 1:\n",
    "        return False\n",
    "\n",
    "\n",
    "    for i in range(1, len(world)):\n",
    "            # check pos that I can get to map[i] from:\n",
    "        found_path = 0\n",
    "        \n",
    "        if world[i] == 1:\n",
    "            valid.append(False)\n",
    "            \n",
    "        elif valid[i-1]:\n",
    "            valid.append(True)\n",
    "            found_path += 1\n",
    "\n",
    "        else:\n",
    "            for j in range(min_jump, max_jump +1):\n",
    "\n",
    "                if (i-j >= 0) and valid[i-j]:\n",
    "                    found_path += 1\n",
    "                    break        \n",
    "\n",
    "            if found_path > 0:\n",
    "                valid.append(True)\n",
    "\n",
    "            else:\n",
    "                valid.append(False)\n",
    "\n",
    "    # return if valid path to last step found\n",
    "    return valid[-1]\n",
    "\n",
    "print(map_valid(world,5,8), map_valid(world2,5,8), map_valid(world3,5,8))"
   ]
  },
  {
   "cell_type": "markdown",
   "metadata": {},
   "source": [
    "### Second follow-up:\n",
    "Assume the same set up as above, but now we want to count how many valid ways there are to complete a given world map.m"
   ]
  },
  {
   "cell_type": "code",
   "execution_count": 60,
   "metadata": {},
   "outputs": [
    {
     "name": "stdout",
     "output_type": "stream",
     "text": [
      "2 1 0\n"
     ]
    }
   ],
   "source": [
    "world1 = [0, 0, 0, 0, 0, 1, 0, 1, 0, 0, 1, 1, 1, 1, 1, 0]\n",
    "world2 = [0, 0, 0, 0, 0, 1, 0, 1, 0, 0, 1, 0, 1, 0, 1, 0]\n",
    "world3 = [0, 1, 1, 1, 1, 1, 1, 0, 1, 0 ]\n",
    "\n",
    "def map_valid(world, min_jump, max_jump):\n",
    "\n",
    "    \n",
    "    #  iterate\n",
    "    # valid - possible or not possible to get to each pos i\n",
    "    valid = []\n",
    "    \n",
    "    # edge case\n",
    "    if world[0] == 1:\n",
    "        return 0\n",
    "    else:\n",
    "        valid.append(1)\n",
    "        \n",
    "    if world[-1] == 1:\n",
    "        return 0\n",
    "\n",
    "\n",
    "    for i in range(1, len(world)):\n",
    "            # check pos that I can get to map[i] from:\n",
    "        found_path = 0\n",
    "        \n",
    "        if world[i] == 1:\n",
    "            valid.append(0)\n",
    "            \n",
    "        else:\n",
    "            if valid[i-1] > 1:\n",
    "                found_path += 1\n",
    "\n",
    "\n",
    "            for j in range(min_jump, max_jump +1):\n",
    "\n",
    "                if (i-j >= 0) and valid[i-j]:\n",
    "                    found_path += 1        \n",
    "\n",
    "            valid.append(found_path)\n",
    "\n",
    "\n",
    "    # return if valid path to last step found\n",
    "    return valid[-1]\n",
    "\n",
    "print(map_valid(world,5,8), map_valid(world2,5,8), map_valid(world3,5,8))"
   ]
  },
  {
   "cell_type": "markdown",
   "metadata": {},
   "source": [
    "# Mock interview question with RG:\n",
    "Longest substring with no repeating characters.\n"
   ]
  },
  {
   "cell_type": "code",
   "execution_count": 103,
   "metadata": {},
   "outputs": [],
   "source": [
    "s = \"abbacdbc\"\n",
    "t = \"abcdefgh\"\n",
    "u = \"abcbca\"\n",
    "\n",
    "def longest(input):\n",
    "    \n",
    "    # helper dict with key/val pairs key = character, val = pos at which character was last encountered\n",
    "    seen_chars = {}\n",
    "    # beginning of longest substring that ends at current position\n",
    "    beg = 0\n",
    "    max_s = 0\n",
    "    \n",
    "    for i, char in enumerate(input):\n",
    "        \n",
    "        if char in seen_chars:\n",
    "            beg = max(seen_chars[char] + 1, beg) \n",
    "            seen_chars[char] = i\n",
    "        else:\n",
    "            seen_chars[char] = i\n",
    "            \n",
    "        max_s = max(max_s, i - (beg) + 1)\n",
    "        \n",
    "    return max_s\n",
    "            \n"
   ]
  },
  {
   "cell_type": "code",
   "execution_count": 104,
   "metadata": {},
   "outputs": [
    {
     "name": "stdout",
     "output_type": "stream",
     "text": [
      "s: 4 t: 8 u: 3\n"
     ]
    }
   ],
   "source": [
    "print(\"s:\", longest(s), \"t:\", longest(t), \"u:\", longest(u))"
   ]
  }
 ],
 "metadata": {
  "kernelspec": {
   "display_name": "Python 3",
   "language": "python",
   "name": "python3"
  },
  "language_info": {
   "codemirror_mode": {
    "name": "ipython",
    "version": 3
   },
   "file_extension": ".py",
   "mimetype": "text/x-python",
   "name": "python",
   "nbconvert_exporter": "python",
   "pygments_lexer": "ipython3",
   "version": "3.7.4"
  }
 },
 "nbformat": 4,
 "nbformat_minor": 4
}

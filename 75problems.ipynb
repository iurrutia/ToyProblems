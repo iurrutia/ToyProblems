{
 "cells": [
  {
   "cell_type": "markdown",
   "metadata": {},
   "source": [
    "# Problems from 75 leetcode question collection\n",
    "\n",
    "Study group with Insight fellows to get very good at solving coding interview questions very quickly\n",
    "\n",
    "https://www.teamblind.com/post/New-Year-Gift---Curated-List-of-Top-75-LeetCode-Questions-to-Save-Your-Time-OaM1orEU\n",
    "\n",
    "(most recent on top)"
   ]
  },
  {
   "cell_type": "code",
   "execution_count": null,
   "metadata": {},
   "outputs": [],
   "source": [
    "# https://leetcode.com/problems/coin-change\n",
    "\n",
    "class Solution:\n",
    "    \n",
    "    def coinChange(self, coins: List[int], amount: int) -> int:\n",
    "        \n",
    "        big_num = amount + 1\n",
    "        small_coin = min(coins)\n",
    "        \n",
    "        # edge cases to make leetcode happy:\n",
    "        if amount == 0:\n",
    "            return 0\n",
    "        if small_coin > amount:\n",
    "            return -1\n",
    "        \n",
    "        # Dealing with test case coins = [1,2147483647], amount = 2\n",
    "        # i.e. don't use unreasonably big coins\n",
    "        good_coins = []\n",
    "        for coin in coins:\n",
    "            if coin <= amount:\n",
    "                good_coins.append(coin)\n",
    "        coins = good_coins\n",
    "        biggest_coin = max(coins)\n",
    "        \n",
    "        # Make helper array, num_coins\n",
    "        num_coins = [big_num for i in range(0, amount+biggest_coin)]\n",
    "        num_coins[0] = 0\n",
    "        \n",
    "        # Populate helper array\n",
    "        for i in range(0,amount+1):\n",
    "            for coin in coins:\n",
    "                # check if we're in bounds:\n",
    "                if i - coin >=0:\n",
    "                    # update if we've found a sol w/less coins\n",
    "                    if num_coins[i-coin] + 1 < num_coins[i]:\n",
    "                        num_coins[i] = num_coins[i-coin] + 1\n",
    "\n",
    "        print(num_coins)\n",
    "        if num_coins[amount] >= amount+1:\n",
    "            return -1\n",
    "        else:\n",
    "            return num_coins[amount]"
   ]
  },
  {
   "cell_type": "code",
   "execution_count": null,
   "metadata": {},
   "outputs": [],
   "source": [
    "# https://leetcode.com/problems/climbing-stairs\n",
    "\n",
    "class Solution:\n",
    "    def climbStairs(self, n: int) -> int:\n",
    "        self.fib = [-1 for i in range(0,n+1)]\n",
    "        self.fib[n] = self.fibo(n)\n",
    "        return self.fib[n]\n",
    "    \n",
    "    def fibo(self, n):\n",
    "        if 0 <= n | n < 2:\n",
    "            return 1\n",
    "        if self.fib[n-1] == -1:\n",
    "            self.fib[n-1] = self.fibo(n-1)\n",
    "        if self.fib[n-2] == -1:\n",
    "            self.fib[n-2] = self.fibo(n-2)\n",
    "        return self.fib[n-1] + self.fib[n-2]"
   ]
  },
  {
   "cell_type": "code",
   "execution_count": null,
   "metadata": {},
   "outputs": [],
   "source": [
    "# https://leetcode.com/problems/sum-of-two-integers/submissions/\n",
    "# log_c(x) + log_c(y) = log_c(x+y)\n",
    "\n",
    "def getSum(self, a: int, b: int) -> int:\n",
    "\n",
    "    c = 1.00000000000001\n",
    "    return round(math.log((c ** a) * (c ** b), c))"
   ]
  },
  {
   "cell_type": "code",
   "execution_count": 3,
   "metadata": {},
   "outputs": [],
   "source": [
    "# https://leetcode.com/problems/best-time-to-buy-and-sell-stock/\n",
    "\n",
    "def maxProfit(prices):\n",
    "\n",
    "    try:\n",
    "        min_so_far = prices[0]\n",
    "    except:\n",
    "        return 0\n",
    "\n",
    "    # min so far keeps track of the minimum price seen so far\n",
    "    # global maximum var\n",
    "    max_profit = 0\n",
    "\n",
    "    for i in range(0, len(prices)):\n",
    "        min_so_far = min(min_so_far, prices[i])\n",
    "        max_profit = max(max_profit, (prices[i]-min_so_far))\n",
    "\n",
    "    return max_profit"
   ]
  },
  {
   "cell_type": "code",
   "execution_count": 2,
   "metadata": {},
   "outputs": [],
   "source": [
    "# https://leetcode.com/problems/two-sum/\n",
    "\n",
    "def twoSum(nums, target):\n",
    "    for i, num in enumerate(nums):\n",
    "        if target-num in dict_dif:\n",
    "            return [dict_dif[target-num], i]\n",
    "        else:\n",
    "            dict_dif[num] = i\n",
    "\n",
    "    return[min(dict_dif[target])]"
   ]
  },
  {
   "cell_type": "code",
   "execution_count": null,
   "metadata": {},
   "outputs": [],
   "source": []
  }
 ],
 "metadata": {
  "kernelspec": {
   "display_name": "Python 3",
   "language": "python",
   "name": "python3"
  },
  "language_info": {
   "codemirror_mode": {
    "name": "ipython",
    "version": 3
   },
   "file_extension": ".py",
   "mimetype": "text/x-python",
   "name": "python",
   "nbconvert_exporter": "python",
   "pygments_lexer": "ipython3",
   "version": "3.7.4"
  }
 },
 "nbformat": 4,
 "nbformat_minor": 4
}

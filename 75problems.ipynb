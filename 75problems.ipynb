{
 "cells": [
  {
   "cell_type": "markdown",
   "metadata": {},
   "source": [
    "# Problems from 75 leetcode question collection\n",
    "\n",
    "https://www.teamblind.com/post/New-Year-Gift---Curated-List-of-Top-75-LeetCode-Questions-to-Save-Your-Time-OaM1orEU"
   ]
  },
  {
   "cell_type": "code",
   "execution_count": 2,
   "metadata": {},
   "outputs": [],
   "source": [
    "# https://leetcode.com/problems/two-sum/\n",
    "\n",
    "\n",
    "def twoSum(nums, target):\n",
    "    dict_dif = {}\n",
    "\n",
    "    for i, num in enumerate(nums):\n",
    "        dict_dif[num] = i\n",
    "        if target-num in dict_dif:\n",
    "            return [dict_dif[target-num], i]"
   ]
  },
  {
   "cell_type": "code",
   "execution_count": null,
   "metadata": {},
   "outputs": [],
   "source": [
    "# https://leetcode.com/problems/best-time-to-buy-and-sell-stock/\n",
    "\n",
    "\n",
    "def maxProfit(prices):\n",
    "\n",
    "    try:\n",
    "        min_so_far = prices[0]\n",
    "    except:\n",
    "        return 0\n",
    "\n",
    "    max_profit = 0\n",
    "\n",
    "    for i in range(0, len(prices)):\n",
    "        min_so_far = min(min_so_far, prices[i])\n",
    "        max_profit = max(max_profit, (prices[i]-min_so_far))\n",
    "\n",
    "    return max_profit"
   ]
  }
 ],
 "metadata": {
  "kernelspec": {
   "display_name": "Python 3",
   "language": "python",
   "name": "python3"
  },
  "language_info": {
   "codemirror_mode": {
    "name": "ipython",
    "version": 3
   },
   "file_extension": ".py",
   "mimetype": "text/x-python",
   "name": "python",
   "nbconvert_exporter": "python",
   "pygments_lexer": "ipython3",
   "version": "3.7.4"
  }
 },
 "nbformat": 4,
 "nbformat_minor": 4
}

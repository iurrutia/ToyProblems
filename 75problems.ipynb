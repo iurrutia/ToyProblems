{
 "cells": [
  {
   "cell_type": "markdown",
   "metadata": {},
   "source": [
    "# Problems from 75 leetcode question collection\n",
    "\n",
    "https://www.teamblind.com/post/New-Year-Gift---Curated-List-of-Top-75-LeetCode-Questions-to-Save-Your-Time-OaM1orEU"
   ]
  },
  {
   "cell_type": "code",
   "execution_count": 2,
   "metadata": {},
   "outputs": [],
   "source": [
    "# https://leetcode.com/problems/two-sum/\n",
    "\n",
    "\n",
    "def twoSum(nums, target):\n",
    "    dict_dif = {}\n",
    "\n",
    "    for i, num in enumerate(nums):\n",
    "        dict_dif[num] = i\n",
    "        if target-num in dict_dif:\n",
    "            return [dict_dif[target-num], i]"
   ]
  }
 ],
 "metadata": {
  "kernelspec": {
   "display_name": "Python 3",
   "language": "python",
   "name": "python3"
  },
  "language_info": {
   "codemirror_mode": {
    "name": "ipython",
    "version": 3
   },
   "file_extension": ".py",
   "mimetype": "text/x-python",
   "name": "python",
   "nbconvert_exporter": "python",
   "pygments_lexer": "ipython3",
   "version": "3.7.4"
  }
 },
 "nbformat": 4,
 "nbformat_minor": 4
}

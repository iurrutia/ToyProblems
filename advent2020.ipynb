{
 "cells": [
  {
   "cell_type": "markdown",
   "metadata": {},
   "source": [
    "# Advent calendar \n"
   ]
  },
  {
   "cell_type": "markdown",
   "metadata": {},
   "source": [
    "### Day 2"
   ]
  },
  {
   "cell_type": "code",
   "execution_count": 34,
   "metadata": {},
   "outputs": [
    {
     "name": "stdout",
     "output_type": "stream",
     "text": [
      "example: ['2-4', 'm:', 'qbwcmt']\n",
      "part 1 sol: 447\n",
      "part 2 sol: 249\n"
     ]
    }
   ],
   "source": [
    "# PART 1\n",
    "\n",
    "psw = []\n",
    "with open(\"psw.txt\", \"r\") as read_txt:\n",
    "    lines = read_txt.readlines()\n",
    "\n",
    "for line in lines:  \n",
    "    psw.append(line.split())\n",
    "\n",
    "print('example:', psw[4])\n",
    "\n",
    "valid_count = 0\n",
    "for p in psw:\n",
    "    \n",
    "    char_count = 0\n",
    "    for char in p[2]:\n",
    "        if char == p[1][0]:\n",
    "            char_count += 1\n",
    "    \n",
    "    if (char_count >= int(p[0].split('-')[0])) and (char_count <= int(p[0].split('-')[1])):\n",
    "        valid_count += 1\n",
    "    \n",
    "print('part 1 sol:', valid_count)\n",
    "\n",
    "# Part 2\n",
    "\n",
    "valid_count2 = 0\n",
    "\n",
    "for p in psw:\n",
    "    \n",
    "    char_count = 0\n",
    "    pos1 = int(p[0].split('-')[0])-1\n",
    "    pos2 = int(p[0].split('-')[1])-1\n",
    "    c = p[1][0]\n",
    "    \n",
    "    if (p[2][pos1] == c):\n",
    "        char_count += 1\n",
    "    if (p[2][pos2] == c):\n",
    "        char_count += 1\n",
    "    if char_count == 1:\n",
    "        valid_count2 += 1\n",
    "        \n",
    "print('part 2 sol:', valid_count2)\n"
   ]
  },
  {
   "cell_type": "markdown",
   "metadata": {},
   "source": [
    "### Day 1"
   ]
  },
  {
   "cell_type": "code",
   "execution_count": 35,
   "metadata": {},
   "outputs": [
    {
     "name": "stdout",
     "output_type": "stream",
     "text": [
      "nums: 196 1824\n",
      "prod: 357504\n",
      "triplenums: 14 694 1312 prod: 12747392\n"
     ]
    }
   ],
   "source": [
    "# PART 1\n",
    "\n",
    "d1 = []\n",
    "with open(\"d1.txt\", \"r\") as read_txt:\n",
    "    lines = read_txt.readlines()\n",
    "\n",
    "for line in lines:  \n",
    "    d1.append(int(line.strip()))\n",
    "\n",
    "d1 = sorted(d1)\n",
    "\n",
    "max_n = len(d1)\n",
    "\n",
    "# FIND PAIRS\n",
    "\n",
    "for i, n in enumerate(d1):\n",
    "    temp = 0\n",
    "    j = i+1\n",
    "    flag = True\n",
    "    while temp < 2020 and j < max_n and flag:\n",
    "        temp = n + d1[j]\n",
    "        #print('temp', temp)\n",
    "        if temp == 2020:\n",
    "            print('nums:', n, d1[j])\n",
    "            print('prod:', n*d1[j])\n",
    "            \n",
    "            flag = False\n",
    "        j += 1\n",
    "\n",
    "# PART 2\n",
    "#FIND TRIPLES  \n",
    "\n",
    "for i in range(0,max_n):\n",
    "    for j in range(i+1, max_n):\n",
    "        for k in range(j+1, max_n):\n",
    "            if d1[i]+d1[j]+d1[k] == 2020:\n",
    "                print('triplenums:', d1[i],d1[j],d1[k],'prod:',d1[i]*d1[j]*d1[k])\n",
    "        "
   ]
  }
 ],
 "metadata": {
  "kernelspec": {
   "display_name": "ker_helloworld",
   "language": "python",
   "name": "ker_helloworld"
  },
  "language_info": {
   "codemirror_mode": {
    "name": "ipython",
    "version": 3
   },
   "file_extension": ".py",
   "mimetype": "text/x-python",
   "name": "python",
   "nbconvert_exporter": "python",
   "pygments_lexer": "ipython3",
   "version": "3.8.5"
  }
 },
 "nbformat": 4,
 "nbformat_minor": 4
}

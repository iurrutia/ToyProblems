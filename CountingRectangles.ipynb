{
 "cells": [
  {
   "cell_type": "markdown",
   "metadata": {},
   "source": [
    "# Toy problem: Counting orthogonal rectangles in orthogonal point set\n",
    "\n",
    "From: https://www.youtube.com/watch?v=EuPSibuIKIg\n",
    "\n",
    "Given a point set P of points that lie on an x/y axis orthogonal grid, count the number of orthogoral rectangles (with axes parallel to the x/y axes)."
   ]
  },
  {
   "cell_type": "code",
   "execution_count": 100,
   "metadata": {},
   "outputs": [],
   "source": [
    "# Some setup for the notebook\n",
    "\n",
    "import matplotlib.pyplot as plt\n",
    "\n",
    "# Update booleans print_debug_log & print_vis_bool to print intermediate logs and \n",
    "# a visualization of the point, respectively \n",
    "\n",
    "print_debug_log = False\n",
    "print_vis_bool = True\n",
    "\n",
    "def debug_log(*args):\n",
    "    if print_debug_log:\n",
    "        print(*args)\n"
   ]
  },
  {
   "cell_type": "code",
   "execution_count": 70,
   "metadata": {},
   "outputs": [],
   "source": [
    "# Point sets\n",
    "\n",
    "# Here are two example point sets that we can work with for this example:\n",
    "\n",
    "q0 = (0,0)\n",
    "q1 = (0,1) \n",
    "q2 = (0,2) \n",
    "q3 = (0,3) \n",
    "q4 = (1,0) \n",
    "q5 = (1,2) \n",
    "q6 = (1,3) \n",
    "q7 = (2,0) \n",
    "q8 = (2,2) \n",
    "q9 = (2,3) \n",
    "q10 = (3,0) \n",
    "q11 = (3,1)\n",
    "\n",
    "given_points = {q0, q1, q2, q3, q4, q5, q6, q7, q8, q9, q10, q11}\n",
    "\n",
    "p0 = (0,0)\n",
    "p1 = (0,1)\n",
    "p2 = (1,3)\n",
    "p3 = (0,2)\n",
    "p4 = (4,0)\n",
    "p5 = (2,1)\n",
    "p6 = (4,3)\n",
    "p7 = (5,2)\n",
    "p8 = (5,0)\n",
    "\n",
    "given_points_b = {p0, p1, p2, p3, p4, p5, p6, p7, p8}"
   ]
  },
  {
   "cell_type": "markdown",
   "metadata": {},
   "source": [
    "### Some visualizations:\n",
    "\n"
   ]
  },
  {
   "cell_type": "code",
   "execution_count": 104,
   "metadata": {},
   "outputs": [],
   "source": [
    "def make_vis(given_points):\n",
    "    \"\"\"Creates a visualization of a point set.\"\"\"\n",
    "    for point in given_points:\n",
    "        x = point[0]\n",
    "        y = point[1]\n",
    "        points_vis = plt.scatter(x, y, s=10)\n",
    "    return points_vis\n",
    "\n",
    "def clean_vis(points_vis):\n",
    "    \"\"\"Cleans up a visualization from make_vis by removing the axes. \"\"\"\n",
    "    points_vis.axes.get_xaxis().set_visible(False)\n",
    "    points_vis.axes.get_yaxis().set_visible(False)\n"
   ]
  },
  {
   "cell_type": "markdown",
   "metadata": {},
   "source": [
    "### Building a solution:"
   ]
  },
  {
   "cell_type": "code",
   "execution_count": 105,
   "metadata": {},
   "outputs": [
    {
     "name": "stdout",
     "output_type": "stream",
     "text": [
      "The number of orthogonal rectangles is 10.0\n"
     ]
    },
    {
     "data": {
      "image/png": "[encoded data removed]",
      "text/plain": [
       "<Figure size 432x288 with 1 Axes>"
      ]
     },
     "metadata": {
      "needs_background": "light"
     },
     "output_type": "display_data"
    }
   ],
   "source": [
    "# Naive solution (brute force), iterate over points \n",
    "# (nxm where n is # of x cols, m is # of y rows)\n",
    "# We assume points are given as a set of tuples\n",
    "\n",
    "# Assume points are ordered!\n",
    "# If they aren't, uncomment and use given_points_sorted:\n",
    "# given_points_sorted = sorted(given_points)\n",
    "\n",
    "# Separate set into rows:\n",
    "def sort_into_rows(given_points):\n",
    "    \"\"\" Takes a list of SORTED point tuples (x,y) and creates a list L of sets [,,,,].\n",
    "    Each set s in L corresponds to a row of points (all having the same value of x, x_i),\n",
    "    and each set s is a set of the y values of all points of the form (x_i, y)\n",
    "    \n",
    "    E.g. \n",
    "    given_points = {(0,1), (1,0), (1,1)}\n",
    "    sorted_into_rows(given_points) returns: [{1}, {0,1}]\n",
    "    \"\"\"\n",
    "    row_sets = []\n",
    "    current_x = -1\n",
    "    for point in given_points:\n",
    "        x = point[0]\n",
    "        y = point[1]\n",
    "        if x > current_x:\n",
    "            current_x = x\n",
    "            row_sets.append({y})\n",
    "        else:\n",
    "            row_sets[-1].add(y)\n",
    "    debug_log('row_sets =', row_sets)\n",
    "    return row_sets\n",
    "\n",
    "\n",
    "def row_intersection_dict(row_sets):\n",
    "    \"\"\" Takes a list of lists (the output row_lists from sorted_into_rows), and outputs\n",
    "    a dictionary row_intersections_dict.\n",
    "    Each key of row_intersections_dict is a tuple pair (x_i, x_j) with value t, where t is\n",
    "    the size of the intersection of rows x_i and x_j.\n",
    "    \"\"\"\n",
    "    counter = 0\n",
    "    row_intersection_dict = {}\n",
    "    for i in range(len(row_sets)):\n",
    "        debug_log('i = ', i)\n",
    "        for j in range(i+1,len(row_sets)):\n",
    "            debug_log('j = ', j)\n",
    "            #row_intersection_dict[(i,j)] = \n",
    "            intersection = set(row_sets[i]).intersection(row_sets[j])\n",
    "            # For testing:\n",
    "            debug_log('intersect:', intersection, '(of sets', row_sets[i], 'and', row_sets[j])\n",
    "            # counter will be updated as we find rectangles in the point set\n",
    "            k = len(intersection)\n",
    "            # of rectangles on rows x_i & x_j = (k choose 2)\n",
    "            debug_log((k*(k-1))//2,'rectangles between rows', i, 'and', j)\n",
    "            counter += (k*(k-1))/2\n",
    "    return counter\n",
    "    \n",
    "def main(given_points):\n",
    "    \"\"\" Calls functions sort_into_rows and row_intersection_dict to count the # of rectangles &\n",
    "    toggle the visualization dispaly on/off.\n",
    "    \"\"\"\n",
    "    sorted_points = sorted(given_points)\n",
    "    row_sets = sort_into_rows(sorted_points)\n",
    "    number_of_rectangles = row_intersection_dict(row_sets)\n",
    "    print('The number of orthogonal rectangles is', number_of_rectangles)\n",
    "    \n",
    "    if print_vis_bool:    \n",
    "        points_vis = make_vis(given_points)\n",
    "        clean_vis(points_vis)\n",
    "    \n",
    "\n",
    "# Input point set argument\n",
    "main(given_points)"
   ]
  }
 ],
 "metadata": {
  "kernelspec": {
   "display_name": "Python 3",
   "language": "python",
   "name": "python3"
  },
  "language_info": {
   "codemirror_mode": {
    "name": "ipython",
    "version": 3
   },
   "file_extension": ".py",
   "mimetype": "text/x-python",
   "name": "python",
   "nbconvert_exporter": "python",
   "pygments_lexer": "ipython3",
   "version": "3.7.4"
  }
 },
 "nbformat": 4,
 "nbformat_minor": 4
}

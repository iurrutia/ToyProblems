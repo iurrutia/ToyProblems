{
 "cells": [
  {
   "cell_type": "markdown",
   "metadata": {},
   "source": [
    "# Leetcode 30 day challenge"
   ]
  },
  {
   "cell_type": "code",
   "execution_count": 2,
   "metadata": {},
   "outputs": [],
   "source": [
    "from typing import List"
   ]
  },
  {
   "cell_type": "markdown",
   "metadata": {},
   "source": [
    "## Day 1\n",
    "Given a non-empty array of integers, every element appears twice except for one. Find that single one."
   ]
  },
  {
   "cell_type": "code",
   "execution_count": null,
   "metadata": {},
   "outputs": [],
   "source": [
    "class Solution1a:\n",
    "    def singleNumber(self, nums: List[int]) -> int:\n",
    "        dict_c = {}\n",
    "        \n",
    "        for i in range(len(nums)):\n",
    "            dict_c[nums[i]] = dict_c.get(nums[i], 0) + 1 \n",
    "            \n",
    "        for k, v in dict_c.items():\n",
    "            if v == 1:\n",
    "               return k\n",
    "        \n",
    "class Solution1b:\n",
    "    def singleNumber(self, nums: List[int]) -> int:\n",
    "        return reduce(lambda x, y: x^y, nums, 0)"
   ]
  },
  {
   "cell_type": "markdown",
   "metadata": {},
   "source": [
    "## Day 2\n",
    "Write an algorithm to determine if a number is \"happy\".\n",
    "\n",
    "A happy number is a number defined by the following process: Starting with any positive integer, replace the number by the sum of the squares of its digits, and repeat the process until the number equals 1 (where it will stay), or it loops endlessly in a cycle which does not include 1. Those numbers for which this process ends in 1 are happy numbers."
   ]
  },
  {
   "cell_type": "code",
   "execution_count": 77,
   "metadata": {},
   "outputs": [],
   "source": [
    "class Solution2:\n",
    "    def squares(self, n):\n",
    "        new = [int(d) for d in str(n)]\n",
    "        squared = [i**2 for i in new]\n",
    "        return sum(squared)\n",
    "\n",
    "    def happy(self,n,i):\n",
    "        for j in range(0,i):\n",
    "            n = self.squares(n)\n",
    "            if n == 1:\n",
    "                return True\n",
    "        return False\n",
    "\n",
    "    # A lazy solution - since I couldn't work out a rule \n",
    "    # to tell if a number converges to 'happiness':\n",
    "    def isHappy(self, n: int) -> bool:\n",
    "        i = 100\n",
    "        return self.happy(n,i)"
   ]
  },
  {
   "cell_type": "markdown",
   "metadata": {},
   "source": [
    "## Day 3\n",
    "\n",
    "Given an integer array nums, find the contiguous subarray (containing at least one number) which has the largest sum and return its sum."
   ]
  },
  {
   "cell_type": "code",
   "execution_count": null,
   "metadata": {},
   "outputs": [],
   "source": [
    "class Solution3:\n",
    "    def maxSubArray(self, nums: List[int]) -> int:\n",
    "        \n",
    "        # We want to keep track of the max sum substring\n",
    "        # that ends at position i for each i in range(0,len(nums))\n",
    "        current_ends = nums[0]\n",
    "        # Save the max encountered:\n",
    "        max_sub = nums[0]\n",
    "        \n",
    "        # Note we initiate current_ends & max_sub as nums[0]\n",
    "        # to deal with the case where nums[i]<0 for all i\n",
    "        \n",
    "        for val in nums[1:]:\n",
    "            if max(current_ends + val, val) == val:\n",
    "                # Case 1: max sum subsequence ending at i\n",
    "                # also begins at i:\n",
    "                current_ends = val\n",
    "                print(current_ends, val, 'replaced')\n",
    "            else:\n",
    "                # Case 2: max sum subsequence ending at i\n",
    "                # is obtained by extending the max subsequence\n",
    "                # that ends at pos i-1 (wlog)\n",
    "                current_ends += val\n",
    "                print(current_ends, val, 'appended')\n",
    "            \n",
    "            # Update max as we iterate through list\n",
    "            max_sub = max(max_sub, current_ends)\n",
    "            \n",
    "        return max_sub  "
   ]
  },
  {
   "cell_type": "markdown",
   "metadata": {},
   "source": [
    "## Day 4\n",
    "\n",
    "Given an array nums, write a function to move all 0's to the end of it while maintaining the relative order of the non-zero elements.\n",
    "\n"
   ]
  },
  {
   "cell_type": "code",
   "execution_count": null,
   "metadata": {},
   "outputs": [],
   "source": [
    "class Solution4:\n",
    "    def moveZeroes(self, nums: List[int]) -> None:\n",
    "        \"\"\"\n",
    "        Do not return anything, modify nums in-place instead.\n",
    "        \"\"\"\n",
    "        \n",
    "        zeros_up_to_here = 0 \n",
    "\n",
    "        for i, val in enumerate(nums):\n",
    "            if val == 0:\n",
    "                zeros_up_to_here += 1\n",
    "\n",
    "            elif zeros_up_to_here > 0:\n",
    "                nums[i - zeros_up_to_here] = val\n",
    "                nums[i] = 0\n",
    "        \n",
    "        return nums"
   ]
  },
  {
   "cell_type": "markdown",
   "metadata": {},
   "source": [
    "## Day 5\n",
    "\n",
    "Say you have an array for which the ith element is the price of a given stock on day i.\n",
    "\n",
    "Design an algorithm to find the maximum profit. You may complete as many transactions as you like (i.e., buy one and sell one share of the stock multiple times)."
   ]
  },
  {
   "cell_type": "code",
   "execution_count": null,
   "metadata": {},
   "outputs": [],
   "source": [
    "class Solution:\n",
    "    def maxProfit(self, prices: List[int]) -> int:\n",
    "        \n",
    "        profit = 0\n",
    "        for i in range(0, len(prices)-1):\n",
    "            if prices[i] < prices[i+1]:\n",
    "                profit += (prices[i+1] - prices[i])\n",
    "        return profit"
   ]
  },
  {
   "cell_type": "markdown",
   "metadata": {},
   "source": [
    "A variant: https://leetcode.com/problems/best-time-to-buy-and-sell-stock/\n",
    "(Only allowed to buy/sell ONCE)"
   ]
  },
  {
   "cell_type": "code",
   "execution_count": null,
   "metadata": {},
   "outputs": [],
   "source": [
    "class Solution:\n",
    "    def maxProfit(self, prices: List[int]) -> int:\n",
    "        \n",
    "        #### Handles empty list case:\n",
    "        try:\n",
    "            min_at_i = prices[0]\n",
    "        except:\n",
    "            return 0\n",
    "        \n",
    "        min_at_i = prices[0]\n",
    "        max_profit = 0\n",
    "        \n",
    "        for i in range(0, len(prices)-1):\n",
    "            min_at_i = min(min_at_i, prices[i])\n",
    "            max_profit = max(max_profit, prices[i+1] - min_at_i)\n",
    "        return max_profit\n",
    "            "
   ]
  }
 ],
 "metadata": {
  "kernelspec": {
   "display_name": "Python 3 (no env)",
   "language": "python",
   "name": "python3"
  },
  "language_info": {
   "codemirror_mode": {
    "name": "ipython",
    "version": 3
   },
   "file_extension": ".py",
   "mimetype": "text/x-python",
   "name": "python",
   "nbconvert_exporter": "python",
   "pygments_lexer": "ipython3",
   "version": "3.7.1"
  }
 },
 "nbformat": 4,
 "nbformat_minor": 2
}

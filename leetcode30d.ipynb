{
 "cells": [
  {
   "cell_type": "markdown",
   "metadata": {},
   "source": [
    "# Leetcode 30 day challenge"
   ]
  },
  {
   "cell_type": "code",
   "execution_count": 2,
   "metadata": {},
   "outputs": [],
   "source": [
    "from typing import List"
   ]
  },
  {
   "cell_type": "markdown",
   "metadata": {},
   "source": [
    "## Day 1\n",
    "Given a non-empty array of integers, every element appears twice except for one. Find that single one."
   ]
  },
  {
   "cell_type": "code",
   "execution_count": null,
   "metadata": {},
   "outputs": [],
   "source": [
    "class Solution1a:\n",
    "    def singleNumber(self, nums: List[int]) -> int:\n",
    "        dict_c = {}\n",
    "        \n",
    "        for i in range(len(nums)):\n",
    "            dict_c[nums[i]] = dict_c.get(nums[i], 0) + 1 \n",
    "            \n",
    "        for k, v in dict_c.items():\n",
    "            if v == 1:\n",
    "               return k\n",
    "        \n",
    "class Solution1b:\n",
    "    def singleNumber(self, nums: List[int]) -> int:\n",
    "        return reduce(lambda x, y: x^y, nums, 0)"
   ]
  },
  {
   "cell_type": "markdown",
   "metadata": {},
   "source": [
    "## Day 2\n",
    "Write an algorithm to determine if a number is \"happy\".\n",
    "\n",
    "A happy number is a number defined by the following process: Starting with any positive integer, replace the number by the sum of the squares of its digits, and repeat the process until the number equals 1 (where it will stay), or it loops endlessly in a cycle which does not include 1. Those numbers for which this process ends in 1 are happy numbers."
   ]
  },
  {
   "cell_type": "code",
   "execution_count": 77,
   "metadata": {},
   "outputs": [],
   "source": [
    "class Solution2:\n",
    "    def squares(self, n):\n",
    "        new = [int(d) for d in str(n)]\n",
    "        squared = [i**2 for i in new]\n",
    "        return sum(squared)\n",
    "\n",
    "    def happy(self,n,i):\n",
    "        for j in range(0,i):\n",
    "            n = self.squares(n)\n",
    "            if n == 1:\n",
    "                return True\n",
    "        return False\n",
    "\n",
    "    # A lazy solution - since I couldn't work out a rule \n",
    "    # to tell if a number converges to 'happiness':\n",
    "    def isHappy(self, n: int) -> bool:\n",
    "        i = 100\n",
    "        return self.happy(n,i)"
   ]
  },
  {
   "cell_type": "markdown",
   "metadata": {},
   "source": [
    "## Day 3\n",
    "\n",
    "Given an integer array nums, find the contiguous subarray (containing at least one number) which has the largest sum and return its sum."
   ]
  },
  {
   "cell_type": "code",
   "execution_count": null,
   "metadata": {},
   "outputs": [],
   "source": [
    "class Solution3:\n",
    "    def maxSubArray(self, nums: List[int]) -> int:\n",
    "        \n",
    "        # We want to keep track of the max sum substring\n",
    "        # that ends at position i for each i in range(0,len(nums))\n",
    "        current_ends = nums[0]\n",
    "        # Save the max encountered:\n",
    "        max_sub = nums[0]\n",
    "        \n",
    "        # Note we initiate current_ends & max_sub as nums[0]\n",
    "        # to deal with the case where nums[i]<0 for all i\n",
    "        \n",
    "        for val in nums[1:]:\n",
    "            if max(current_ends + val, val) == val:\n",
    "                # Case 1: max sum subsequence ending at i\n",
    "                # also begins at i:\n",
    "                current_ends = val\n",
    "                print(current_ends, val, 'replaced')\n",
    "            else:\n",
    "                # Case 2: max sum subsequence ending at i\n",
    "                # is obtained by extending the max subsequence\n",
    "                # that ends at pos i-1 (wlog)\n",
    "                current_ends += val\n",
    "                print(current_ends, val, 'appended')\n",
    "            \n",
    "            # Update max as we iterate through list\n",
    "            max_sub = max(max_sub, current_ends)\n",
    "            \n",
    "        return max_sub  "
   ]
  },
  {
   "cell_type": "markdown",
   "metadata": {},
   "source": [
    "## Day 4\n",
    "\n",
    "Given an array nums, write a function to move all 0's to the end of it while maintaining the relative order of the non-zero elements.\n",
    "\n"
   ]
  },
  {
   "cell_type": "code",
   "execution_count": null,
   "metadata": {},
   "outputs": [],
   "source": [
    "class Solution4:\n",
    "    def moveZeroes(self, nums: List[int]) -> None:\n",
    "        \"\"\"\n",
    "        Do not return anything, modify nums in-place instead.\n",
    "        \"\"\"\n",
    "        \n",
    "        zeros_up_to_here = 0 \n",
    "\n",
    "        for i, val in enumerate(nums):\n",
    "            if val == 0:\n",
    "                zeros_up_to_here += 1\n",
    "\n",
    "            elif zeros_up_to_here > 0:\n",
    "                nums[i - zeros_up_to_here] = val\n",
    "                nums[i] = 0\n",
    "        \n",
    "        return nums"
   ]
  },
  {
   "cell_type": "markdown",
   "metadata": {},
   "source": [
    "## Day 5\n",
    "\n",
    "Say you have an array for which the ith element is the price of a given stock on day i.\n",
    "\n",
    "Design an algorithm to find the maximum profit. You may complete as many transactions as you like (i.e., buy one and sell one share of the stock multiple times)."
   ]
  },
  {
   "cell_type": "code",
   "execution_count": null,
   "metadata": {},
   "outputs": [],
   "source": [
    "class Solution:\n",
    "    def maxProfit(self, prices: List[int]) -> int:\n",
    "        \n",
    "        profit = 0\n",
    "        for i in range(0, len(prices)-1):\n",
    "            if prices[i] < prices[i+1]:\n",
    "                profit += (prices[i+1] - prices[i])\n",
    "        return profit"
   ]
  },
  {
   "cell_type": "markdown",
   "metadata": {},
   "source": [
    "A variant: https://leetcode.com/problems/best-time-to-buy-and-sell-stock/\n",
    "(Only allowed to buy/sell ONCE)"
   ]
  },
  {
   "cell_type": "code",
   "execution_count": null,
   "metadata": {},
   "outputs": [],
   "source": [
    "class Solution:\n",
    "    def maxProfit(self, prices: List[int]) -> int:\n",
    "        \n",
    "        #### Handles empty list case:\n",
    "        try:\n",
    "            min_at_i = prices[0]\n",
    "        except:\n",
    "            return 0\n",
    "        \n",
    "        # Keep track of the min up to pos i,  min_at_i (and update)\n",
    "        # Keep track of the max profit up to pos i (and update)\n",
    "        # where the max profit is prices[i] - min_at_i:\n",
    "        \n",
    "        min_at_i = prices[0]\n",
    "        max_profit = 0\n",
    "       b \n",
    "        for i in range(0, len(prices)-1):\n",
    "            min_at_i = min(min_at_i, prices[i])\n",
    "            max_profit = max(max_profit, prices[i+1] - min_at_i)\n",
    "        return max_profit"
   ]
  },
  {
   "cell_type": "markdown",
   "metadata": {},
   "source": [
    "## Day 6\n",
    "\n",
    "Given an array of strings, group anagrams together."
   ]
  },
  {
   "cell_type": "code",
   "execution_count": 3,
   "metadata": {},
   "outputs": [],
   "source": [
    "class Solution:\n",
    "    \n",
    "    def groupAnagrams(self, strs: List[str]) -> List[List[str]]:\n",
    "        \n",
    "        # Make a dictionary, word_dict, to keep key/val pairs\n",
    "        # where keys are sorted word characters  \n",
    "        # and values are lists of words with the same characters\n",
    "        \n",
    "        word_dict = {}\n",
    "        \n",
    "        for word in strs:\n",
    "            \n",
    "            # Sort characters\n",
    "            sort_word = sorted(word)\n",
    "            key = \"\".join(sort_word)\n",
    "            \n",
    "            # Update dictionary\n",
    "            if key in word_dict:\n",
    "                word_dict[key].append(word)\n",
    "            else:\n",
    "                word_dict[key] = [word]\n",
    "        \n",
    "        # Print result\n",
    "        return word_dict.values()"
   ]
  },
  {
   "cell_type": "markdown",
   "metadata": {},
   "source": [
    "## Day 7 \n",
    "\n",
    "Given an integer array arr, count element x such that x + 1 is also in arr.\n",
    "\n",
    "If there're duplicates in arr, count them seperately."
   ]
  },
  {
   "cell_type": "code",
   "execution_count": 29,
   "metadata": {},
   "outputs": [],
   "source": [
    "from collections import defaultdict\n",
    "\n",
    "class Solution:\n",
    "    def countElements(self, arr: List[int]) -> int:\n",
    "        \n",
    "        d = defaultdict(int)\n",
    "        for k in arr:\n",
    "            d[k] += 1\n",
    "        \n",
    "        # Create a dictionary of nums, counts\n",
    "        d_keys = sorted(d.keys())\n",
    "        count = 0\n",
    "\n",
    "        for i in range(0, len(d_keys)-1):\n",
    "            # For each num, check if the next key is == num + 1, \n",
    "            # and if so, update count\n",
    "            if d_keys[i] == d_keys[i+1]-1:\n",
    "                count += d[d_keys[i]]\n",
    "\n",
    "        return count"
   ]
  },
  {
   "cell_type": "markdown",
   "metadata": {},
   "source": [
    "## Day 8\n",
    "\n",
    "Given a non-empty, singly linked list with head node head, return a middle node of linked list.\n",
    "\n",
    "If there are two middle nodes, return the second middle node"
   ]
  },
  {
   "cell_type": "code",
   "execution_count": null,
   "metadata": {},
   "outputs": [],
   "source": [
    "# Definition for singly-linked list.\n",
    "# class ListNode:\n",
    "#     def __init__(self, x):\n",
    "#         self.val = x\n",
    "#         self.next = None\n",
    "\n",
    "class Solution:\n",
    "    def middleNode(self, head: ListNode) -> ListNode:\n",
    "        \n",
    "        # Two pointer trick solution\n",
    "        fast = head\n",
    "        slow = head\n",
    "        \n",
    "        # Advance fast and slow pointers:\n",
    "        while fast.next:\n",
    "            slow = slow.next\n",
    "            fast = fast.next\n",
    "            \n",
    "            # For even case, we want to return the second\n",
    "            # middle element:\n",
    "            if fast.next:\n",
    "                fast = fast.next\n",
    "            else:\n",
    "                return slow\n",
    "            \n",
    "        # For the odd case, there is just one middle element:\n",
    "        else:\n",
    "            return slow"
   ]
  },
  {
   "cell_type": "code",
   "execution_count": null,
   "metadata": {},
   "outputs": [],
   "source": [
    "# Shorter:\n",
    "\n",
    "class Solution:\n",
    "    def middleNode(self, head: ListNode) -> ListNode:\n",
    "        \n",
    "        fast = head\n",
    "        slow = head \n",
    "        \n",
    "        while fast and fast.next:\n",
    "            slow = slow.next  \n",
    "            fast = fast.next.next\n",
    "        \n",
    "        return slow"
   ]
  },
  {
   "cell_type": "markdown",
   "metadata": {},
   "source": [
    "## Day 9\n",
    "\n",
    "Given two strings S and T, return if they are equal when both are typed into empty text editors. # means a backspace character."
   ]
  },
  {
   "cell_type": "code",
   "execution_count": 50,
   "metadata": {},
   "outputs": [],
   "source": [
    "def next_pos(ST, i):\n",
    "    \n",
    "\"\"\" \n",
    "travel backwards on S or T until \n",
    "we encounter a non-deleted character,\n",
    "return the correct character and index.\n",
    "(or if we never encounter a non-deleted character, we return\n",
    "a pos i that is out of bounds (>= len(ST))\n",
    "ST is S or T / b is bs or bt / i is s or t\n",
    "\n",
    "\"\"\"\n",
    "    b = 1\n",
    "    i += 1\n",
    "    \n",
    "    while b != 0 and i < len(ST):\n",
    "        print('b is', b, 'i is', i)\n",
    "        \n",
    "    # If the next character is a backspace\n",
    "        if ST[::-1][i] == \"#\":\n",
    "            b += 1\n",
    "            \n",
    "    # If the next character is not a backspace\n",
    "    # it is a character that is deleted\n",
    "        else:\n",
    "            b -= 1\n",
    "        print('update b to', b)\n",
    "        i += 1\n",
    "    \n",
    "    # We travel back until we encounter a non-deleted character:\n",
    "    if i < len(ST) and ST[::-1][i] == \"#\":\n",
    "        return next_pos(ST,i)\n",
    "    else:\n",
    "        return i\n",
    "\n",
    "class Solution:\n",
    "    def backspaceCompare(self, S: str, T: str) -> bool:\n",
    "        s = 0\n",
    "        t = 0\n",
    "\n",
    "        while True:\n",
    "            if s < len(S) and S[::-1][s] == \"#\":\n",
    "                print(\"skip S's\", S[::-1][s], \"at pos\", s)\n",
    "                s = next_pos(S, s)\n",
    "                print(\"new pos\", s)\n",
    "\n",
    "            if t < len(T) and T[::-1][t] == \"#\":\n",
    "                print(\"skip T's\", T[::-1][t], \"at pos\", t)\n",
    "                t = next_pos(T, t)\n",
    "                print(\"new pos\", t)\n",
    "                \n",
    "            if s >= len(S) and t >= len (T):\n",
    "                return True\n",
    "\n",
    "            try:\n",
    "                if S[::-1][s] != T[::-1][t]:\n",
    "                    print(\"pos S,T:\", s, t, S[::-1][s],T[::-1][t] )\n",
    "                    return False\n",
    "            except:\n",
    "                return False\n",
    "            \n",
    "            s += 1\n",
    "            t += 1\n",
    "\n",
    "        return s >= len(S) and t >= len(T)"
   ]
  },
  {
   "cell_type": "markdown",
   "metadata": {},
   "source": [
    "## Day 10\n",
    "\n",
    "Design a stack that supports push, pop, top, and retrieving the minimum element in constant time.\n",
    "\n",
    "- push(x) -- Push element x onto stack.\n",
    "- pop() -- Removes the element on top of the stack.\n",
    "- top() -- Get the top element.\n",
    "- getMin() -- Retrieve the minimum element in the stack."
   ]
  },
  {
   "cell_type": "code",
   "execution_count": null,
   "metadata": {},
   "outputs": [],
   "source": [
    "class MinStack:\n",
    "\n",
    "    def __init__(self):\n",
    "        \"\"\"\n",
    "        initialize data structure - list of lists [val, min], \n",
    "        val/self.items[i][0] is an int, and\n",
    "        min/self.items[i][1] is the min value of stack at pos i\n",
    "        \"\"\"\n",
    "        self.items = []\n",
    "        \n",
    "    def push(self, x: int) -> None:\n",
    "        \"\"\"\n",
    "        Push element x onto stack.\n",
    "        \"\"\"\n",
    "        if len(self.items) < 1:\n",
    "            self.items.append([x, x])\n",
    "        else:\n",
    "            self.items.append([x, min(x,self.getMin())])\n",
    "        \n",
    "    def pop(self) -> None:\n",
    "        \"\"\" \n",
    "        Removes the element on top of the stack.\n",
    "        \"\"\"\n",
    "        self.items.pop()\n",
    "\n",
    "    def top(self) -> int:\n",
    "        \"\"\"\n",
    "        Get the top element.\n",
    "        \"\"\"\n",
    "        return self.items[len(self.items)-1][0]\n",
    "\n",
    "    def getMin(self) -> int:\n",
    "        \"\"\"\n",
    "        Retrieve the minimum element in the stack.\n",
    "        \"\"\"\n",
    "        return self.items[len(self.items)-1][1]\n",
    " \n",
    "# Your MinStack object will be instantiated and called as such:\n",
    "# obj = MinStack()\n",
    "# obj.push(x)\n",
    "# obj.pop()\n",
    "# param_3 = obj.top()\n",
    "# param_4 = obj.getMin()"
   ]
  },
  {
   "cell_type": "markdown",
   "metadata": {},
   "source": [
    "## Day 11\n",
    "\n",
    "\n",
    "Given a binary tree, you need to compute the length of the diameter of the tree. The diameter of a binary tree is the length of the longest path between any two nodes in a tree. This path may or may not pass through the root.\n",
    "\n",
    "Note: The length of path between two nodes is represented by the number of edges between them.\n",
    "\n"
   ]
  },
  {
   "cell_type": "code",
   "execution_count": null,
   "metadata": {},
   "outputs": [],
   "source": [
    "# Definition for a binary tree node.\n",
    "# class TreeNode:\n",
    "#     def __init__(self, x):\n",
    "#         self.val = x\n",
    "#         self.left = None\n",
    "#         self.right = None\n",
    "\n",
    "    \n",
    "def below_f(node):\n",
    "\n",
    "    below = 0\n",
    "    diam = 0\n",
    "    \n",
    "    if node.left and node.right:\n",
    "        \n",
    "        below_left, diam_left = below_f(node.left)\n",
    "        below_right, diam_right = below_f(node.right)\n",
    "    \n",
    "        below = max(below_left, below_right) + 1\n",
    "        diam = max(diam_left, diam_right, below_left + below_right + 2)\n",
    "        \n",
    "    elif node.left:\n",
    "\n",
    "        below_left, diam_left = below_f(node.left)\n",
    "        below = below_left + 1\n",
    "        diam = max(diam_left, below_left + 1)\n",
    "        \n",
    "    elif node.right:\n",
    "        \n",
    "        below_right, diam_right = below_f(node.right)\n",
    "        below = below_right + 1\n",
    "        diam = max(diam_right, below_right + 1)\n",
    "\n",
    "    return below, diam\n",
    "\n",
    "\n",
    "class Solution:\n",
    "    def diameterOfBinaryTree(self, root: TreeNode) -> int:\n",
    "        \n",
    "        if not root:\n",
    "            return 0\n",
    "        else:\n",
    "            return below_f(root)[1]\n",
    "        "
   ]
  },
  {
   "cell_type": "markdown",
   "metadata": {},
   "source": [
    "## Day 12\n",
    "\n",
    "We have a collection of stones, each stone has a positive integer weight.\n",
    "\n",
    "Each turn, we choose the two heaviest stones and smash them together.  Suppose the stones have weights x and y with x <= y.  The result of this smash is:\n",
    "\n",
    "If x == y, both stones are totally destroyed;\n",
    "If x != y, the stone of weight x is totally destroyed, and the stone of weight y has new weight y-x.\n",
    "At the end, there is at most 1 stone left.  Return the weight of this stone (or 0 if there are no stones left.)"
   ]
  },
  {
   "cell_type": "code",
   "execution_count": null,
   "metadata": {},
   "outputs": [],
   "source": [
    "class Solution:\n",
    "    def lastStoneWeight(self, stones: List[int]) -> int:\n",
    "        \n",
    "        \n",
    "    # Brute force (resorting at each step instead of intelligently\n",
    "    # inserting the next stone in linear time)\n",
    "        \n",
    "        while len(stones) > 1:\n",
    "            stones = sorted(stones)\n",
    "            one = stones.pop()\n",
    "            two = stones.pop()\n",
    "            \n",
    "            if one != two:\n",
    "                stones.append(abs(one - two))\n",
    "                \n",
    "        if len(stones) > 0:\n",
    "            return stones[0]\n",
    "        else: \n",
    "            return 0"
   ]
  },
  {
   "cell_type": "markdown",
   "metadata": {},
   "source": [
    "## Day 13\n",
    "\n",
    "Given a binary array, find the maximum length of a contiguous subarray with equal number of 0 and 1.\n",
    "\n"
   ]
  },
  {
   "cell_type": "markdown",
   "metadata": {},
   "source": [
    "a) SLOW solution: O(n^2)"
   ]
  },
  {
   "cell_type": "code",
   "execution_count": null,
   "metadata": {},
   "outputs": [],
   "source": [
    "def count_init(nums):\n",
    "    # Calculate the overall counts:\n",
    "    ones = 0\n",
    "    zeros = 0\n",
    "    for i in nums:\n",
    "        if i == 1:\n",
    "            ones += 1\n",
    "        else:\n",
    "            zeros += 1\n",
    "    return ones, zeros  \n",
    "\n",
    "def update(index, ones, zeros, nums):\n",
    "    if nums[index] == 1:\n",
    "        ones -= 1\n",
    "    else:\n",
    "        zeros -=1\n",
    "    return ones, zeros\n",
    "\n",
    "\n",
    "def findMaxLength(self, nums: List[int]) -> int:\n",
    "\n",
    "    longest_found = 0\n",
    "    ones, zeros = count_init(nums)\n",
    "    i = len(nums)-1\n",
    "\n",
    "    # An edge case\n",
    "    if ones == zeros:\n",
    "        return len(nums)\n",
    "\n",
    "    # iterate through j,i (begin/end indices)\n",
    "    else:\n",
    "\n",
    "        while i > 0 and (i > longest_found):\n",
    "            # update main ones, zeros\n",
    "            # counts ones/zeros up to pos i-1\n",
    "            ones_j, zeros_j = ones, zeros\n",
    "            j = 0\n",
    "\n",
    "            while j < i and (i-j > longest_found): \n",
    "\n",
    "                if ones_j == zeros_j:\n",
    "                    longest_found = max(ones_j+zeros_j, longest_found)\n",
    "                else:\n",
    "                    # updates for next j\n",
    "                    # counts ones/zeros starting after pos j (starting at j+1)\n",
    "                    ones_j, zeros_j = update(j, ones_j, zeros_j, nums)\n",
    "                j += 1\n",
    "            # updates for next i\n",
    "            # counts ones/zeros ending at pos i-1 (remove n[i])\n",
    "            ones, zeros = update(i, ones, zeros, nums)\n",
    "            i -= 1\n",
    "\n",
    "        return longest_found"
   ]
  },
  {
   "cell_type": "markdown",
   "metadata": {},
   "source": [
    "b) FAST Solution: O(n)"
   ]
  },
  {
   "cell_type": "code",
   "execution_count": null,
   "metadata": {},
   "outputs": [],
   "source": [
    "def findMaxLength(self, nums: List[int]) -> int:\n",
    "\n",
    "    # edge case:\n",
    "    if len(nums) == 0:\n",
    "        return 0\n",
    "\n",
    "    else:\n",
    "        #Initialize:\n",
    "        counts = [0]\n",
    "        # Note that counts[i+1] corresponds to nums[i]\n",
    "        # E.g.:\n",
    "        #     nums = [ 0, 1, 0]\n",
    "        # counts = [0,-1, 0,-1]\n",
    "        # dict_loc = { 0: 0, -1: 1} (index st nums[index] to nums[i], inclusive, \n",
    "        # are a balanced substring of length (i+1 - index))\n",
    "        length = 0\n",
    "        dict_loc = {0:-1}\n",
    "\n",
    "    for i, num in enumerate(nums):\n",
    "        if num == 1:\n",
    "            count_val = counts[i]+1\n",
    "        else:\n",
    "            count_val = counts[i]-1\n",
    "        counts.append(count_val)\n",
    "\n",
    "        if count_val in dict_loc:\n",
    "            length = max(length, i - dict_loc[count_val])\n",
    "        else:\n",
    "            dict_loc[count_val] = i\n",
    "\n",
    "    return length"
   ]
  },
  {
   "cell_type": "markdown",
   "metadata": {},
   "source": [
    "## Day 14\n",
    "\n",
    "You are given a string s containing lowercase English letters, and a matrix shift, where shift[i] = [direction, amount]:\n",
    "- direction can be 0 (for left shift) or 1 (for right shift). \n",
    "- amount is the amount by which string s is to be shifted.\n",
    "- A left shift by 1 means remove the first character of s and append it to the end.\n",
    "- Similarly, a right shift by 1 means remove the last character of s and add it to the beginning.\n",
    "Return the final string after all operations."
   ]
  },
  {
   "cell_type": "code",
   "execution_count": null,
   "metadata": {},
   "outputs": [],
   "source": [
    "def stringShift(self, s: str, shift: List[List[int]]) -> str:\n",
    "        \n",
    "    # Calculate index_shift, the overall shift we apply to all elements: \n",
    "    index_shift = 0\n",
    "    for i, pair in enumerate(shift):\n",
    "        # left:\n",
    "        if shift[i][0] == 0: \n",
    "            index_shift -= shift[i][1]\n",
    "        # right\n",
    "        else:\n",
    "            index_shift += shift[i][1]\n",
    "    index_shift = (index_shift * -1) % len(s)\n",
    "\n",
    "    return s[index_shift:]+ s[:index_shift]         "
   ]
  },
  {
   "cell_type": "code",
   "execution_count": 20,
   "metadata": {},
   "outputs": [
    {
     "data": {
      "text/plain": [
       "'fgabcde'"
      ]
     },
     "execution_count": 20,
     "metadata": {},
     "output_type": "execute_result"
    }
   ],
   "source": [
    "s = \"abcdefg\"\n",
    "# Example where shift_index = 2\n",
    "s[-2:]+s[:-2]"
   ]
  },
  {
   "cell_type": "markdown",
   "metadata": {},
   "source": [
    "## Day 15\n",
    "\n",
    "Given an array nums of n integers where n > 1,  return an array output such that output[i] is equal to the product of all the elements of nums except nums[i]."
   ]
  },
  {
   "cell_type": "code",
   "execution_count": 75,
   "metadata": {},
   "outputs": [],
   "source": [
    "def productExceptSelf(nums):\n",
    "        \n",
    "    from_left = [1]\n",
    "    from_right = [1]\n",
    "    final = []\n",
    "\n",
    "    for i, num in enumerate(nums):\n",
    "        from_left.append(1*num*from_left[i])\n",
    "\n",
    "    for i, num in enumerate(nums[::-1]):\n",
    "        from_right.append(1*num*from_right[i])\n",
    "\n",
    "    for i,num in enumerate(nums):\n",
    "        final.append(from_left[i]*from_right[len(nums)-(i+1)])\n",
    "\n",
    "    return final\n",
    "    "
   ]
  },
  {
   "cell_type": "code",
   "execution_count": 77,
   "metadata": {},
   "outputs": [
    {
     "name": "stdout",
     "output_type": "stream",
     "text": [
      "[1155, 770, 462, 330, 210]\n"
     ]
    }
   ],
   "source": [
    "# An example:\n",
    "nums = [2, 3, 5, 7, 11]\n",
    "print(productExceptSelf(nums))"
   ]
  }
 ],
 "metadata": {
  "kernelspec": {
   "display_name": "Python 3",
   "language": "python",
   "name": "python3"
  },
  "language_info": {
   "codemirror_mode": {
    "name": "ipython",
    "version": 3
   },
   "file_extension": ".py",
   "mimetype": "text/x-python",
   "name": "python",
   "nbconvert_exporter": "python",
   "pygments_lexer": "ipython3",
   "version": "3.7.4"
  }
 },
 "nbformat": 4,
 "nbformat_minor": 4
}

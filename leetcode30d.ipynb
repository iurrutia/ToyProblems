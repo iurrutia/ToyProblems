{
 "cells": [
  {
   "cell_type": "markdown",
   "metadata": {},
   "source": [
    "# Leetcode 30 day challenge"
   ]
  },
  {
   "cell_type": "markdown",
   "metadata": {},
   "source": [
    "## Day 1\n",
    "Given a non-empty array of integers, every element appears twice except for one. Find that single one."
   ]
  },
  {
   "cell_type": "code",
   "execution_count": null,
   "metadata": {},
   "outputs": [],
   "source": [
    "class Solution1a:\n",
    "    def singleNumber(self, nums: List[int]) -> int:\n",
    "        dict_c = {}\n",
    "        \n",
    "        for i in range(len(nums)):\n",
    "            dict_c[nums[i]] = dict_c.get(nums[i], 0) + 1 \n",
    "            \n",
    "        for k, v in dict_c.items():\n",
    "            if v == 1:\n",
    "               return k\n",
    "        \n",
    "class Solution1b:\n",
    "    def singleNumber(self, nums: List[int]) -> int:\n",
    "        return reduce(lambda x, y: x^y, nums, 0)"
   ]
  },
  {
   "cell_type": "markdown",
   "metadata": {},
   "source": [
    "## Day 2\n",
    "Write an algorithm to determine if a number is \"happy\".\n",
    "\n",
    "A happy number is a number defined by the following process: Starting with any positive integer, replace the number by the sum of the squares of its digits, and repeat the process until the number equals 1 (where it will stay), or it loops endlessly in a cycle which does not include 1. Those numbers for which this process ends in 1 are happy numbers."
   ]
  },
  {
   "cell_type": "code",
   "execution_count": 77,
   "metadata": {},
   "outputs": [],
   "source": [
    "class Solution2:\n",
    "    def squares(self, n):\n",
    "        new = [int(d) for d in str(n)]\n",
    "        squared = [i**2 for i in new]\n",
    "        return sum(squared)\n",
    "\n",
    "    def happy(self,n,i):\n",
    "        for j in range(0,i):\n",
    "            n = self.squares(n)\n",
    "            if n == 1:\n",
    "                return True\n",
    "        return False\n",
    "\n",
    "    # A lazy solution - since I couldn't work out a rule \n",
    "    # to tell if a number converges to 'happiness':\n",
    "    def isHappy(self, n: int) -> bool:\n",
    "        i = 100\n",
    "        return self.happy(n,i)"
   ]
  },
  {
   "cell_type": "code",
   "execution_count": null,
   "metadata": {},
   "outputs": [],
   "source": []
  },
  {
   "cell_type": "code",
   "execution_count": null,
   "metadata": {},
   "outputs": [],
   "source": []
  },
  {
   "cell_type": "code",
   "execution_count": null,
   "metadata": {},
   "outputs": [],
   "source": []
  },
  {
   "cell_type": "code",
   "execution_count": null,
   "metadata": {},
   "outputs": [],
   "source": []
  },
  {
   "cell_type": "code",
   "execution_count": null,
   "metadata": {},
   "outputs": [],
   "source": []
  },
  {
   "cell_type": "code",
   "execution_count": null,
   "metadata": {},
   "outputs": [],
   "source": []
  }
 ],
 "metadata": {
  "kernelspec": {
   "display_name": "Python 3 (no env)",
   "language": "python",
   "name": "python3"
  },
  "language_info": {
   "codemirror_mode": {
    "name": "ipython",
    "version": 3
   },
   "file_extension": ".py",
   "mimetype": "text/x-python",
   "name": "python",
   "nbconvert_exporter": "python",
   "pygments_lexer": "ipython3",
   "version": "3.7.1"
  }
 },
 "nbformat": 4,
 "nbformat_minor": 2
}

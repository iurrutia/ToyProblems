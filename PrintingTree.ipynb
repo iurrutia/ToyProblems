{
 "cells": [
  {
   "cell_type": "markdown",
   "metadata": {},
   "source": [
    "# Printing the a nested adjacency list of a tree\n",
    "\n",
    "See the following video for the problem specifications:\n",
    "https://www.youtube.com/watch?v=V0xjK_6ZoEY\n",
    "\n",
    "Note: I assumed the child, parent pairs were given as a set of tuples.\n",
    "\n",
    "### Overview of solution:\n",
    "- Create a dictionary of parents with key-value pairs [child]:parent\n",
    "- Create and a dictionary of children with key-value pairs [parent]:[child, child, etc]\n",
    "- Use a recursive function and the dictionaries to print out the list as specified."
   ]
  },
  {
   "cell_type": "code",
   "execution_count": 1,
   "metadata": {},
   "outputs": [],
   "source": [
    "# Here is an example child, parent pairs that we can work with for this example:\n",
    "\n",
    "input_data = {('dog', 'canine'), \n",
    "              ('pomeranian', 'dog'), \n",
    "              ('cat', 'feline'), \n",
    "              ('maltese', 'dog'), \n",
    "              ('poodle', 'dog'), \n",
    "              ('siamese', 'cat'), \n",
    "              ('feline', 'species'),\n",
    "              ('canine', 'species'), \n",
    "              ('wolf', 'canine'),\n",
    "              ('tiger', 'feline'),\n",
    "              ('leopard', 'feline'), \n",
    "              ('fish', 'species'), \n",
    "              ('goldfish', 'fish'),\n",
    "              ('terrier', 'dog'),\n",
    "              ('airedale', 'terrier'),\n",
    "              ('staffordshire', 'terrier'),\n",
    "              ('persian', 'cat')}"
   ]
  },
  {
   "cell_type": "markdown",
   "metadata": {},
   "source": [
    "#### Solution set-up:"
   ]
  },
  {
   "cell_type": "code",
   "execution_count": 2,
   "metadata": {},
   "outputs": [],
   "source": [
    "print_debug_log = False\n",
    "\n",
    "def debug_log(*args):\n",
    "    if print_debug_log:\n",
    "        print(*args)"
   ]
  },
  {
   "cell_type": "markdown",
   "metadata": {},
   "source": [
    "### Building a solution:"
   ]
  },
  {
   "cell_type": "code",
   "execution_count": 133,
   "metadata": {},
   "outputs": [
    {
     "name": "stdout",
     "output_type": "stream",
     "text": [
      "species\n",
      "    fish\n",
      "       goldfish\n",
      "    canine\n",
      "       wolf\n",
      "       dog\n",
      "          poodle\n",
      "          terrier\n",
      "             airedale\n",
      "             staffordshire\n",
      "          maltese\n",
      "          pomeranian\n",
      "    feline\n",
      "       tiger\n",
      "       leopard\n",
      "       cat\n",
      "          persian\n",
      "          siamese\n"
     ]
    }
   ],
   "source": [
    "parents_dict = {}\n",
    "children_dict = {}\n",
    "\n",
    "def build_dicts(input_data):\n",
    "    \"\"\" Takes the input data (sets of pairs) and creates dictionary parents_dict \n",
    "    with key-value pairs [child]:parent and creates dictionary with key-value pairs \n",
    "    [parent]:[child, child, etc].\n",
    "    \"\"\"\n",
    "    for pair in input_data:\n",
    "        # Update parents_dict \n",
    "        child = pair[0]  \n",
    "        parent = pair[1]\n",
    "        parents_dict[child] = parent\n",
    "\n",
    "        # Update children_dict\n",
    "        if  parent in children_dict:\n",
    "            children_dict[parent].append(child)\n",
    "        else:\n",
    "            children_dict[parent] = [child]\n",
    "    debug_log('parents_dict is', parents_dict, '\\n')\n",
    "    debug_log('children_dict is', children_dict)\n",
    "    return(parents_dict, children_dict)\n",
    "\n",
    "\n",
    "def find_first_elem(parents_dict):\n",
    "    \"\"\" Finds the first value using parents_dict (as input) and outputs the root\n",
    "    \"\"\"\n",
    "    current_elem = next(iter(parents_dict))\n",
    "    while current_elem in parents_dict:\n",
    "        current_elem = parents_dict[current_elem]\n",
    "        debug_log(current_elem)\n",
    "    else:\n",
    "        debug_log('root is:', current_elem)    \n",
    "        return current_elem\n",
    "        \n",
    "\n",
    "def recurse_tree(vertex, tab_counter):\n",
    "    \"\"\" Recursive function that prints out the tree. tab_counter keeps track of the layer\n",
    "    of the tree to print the appropriate number of spaces.\n",
    "    \"\"\"\n",
    "    for child in children_dict[vertex]:\n",
    "        print('   '*tab_counter, child)\n",
    "        if child in children_dict:\n",
    "            recurse_tree(child, tab_counter+1)\n",
    "    \n",
    "    \n",
    "def print_tree(input_data):\n",
    "    \"\"\" Main function. Takes input_data as the input to create the two auxiliary dictionaries, \n",
    "    finds the root, prints the root, then prints the rest of the desired tree recursively using\n",
    "    the recurse_tree function.\n",
    "    \"\"\"\n",
    "    parents_dict, children_dict = build_dicts(input_data)\n",
    "    root = find_first_elem(parents_dict)\n",
    "    print(root)\n",
    "    recurse_tree(root, 1)\n",
    "    \n",
    "    \n",
    "print_tree(input_data)\n"
   ]
  }
 ],
 "metadata": {
  "kernelspec": {
   "display_name": "Python 3",
   "language": "python",
   "name": "python3"
  },
  "language_info": {
   "codemirror_mode": {
    "name": "ipython",
    "version": 3
   },
   "file_extension": ".py",
   "mimetype": "text/x-python",
   "name": "python",
   "nbconvert_exporter": "python",
   "pygments_lexer": "ipython3",
   "version": "3.7.4"
  }
 },
 "nbformat": 4,
 "nbformat_minor": 4
}
